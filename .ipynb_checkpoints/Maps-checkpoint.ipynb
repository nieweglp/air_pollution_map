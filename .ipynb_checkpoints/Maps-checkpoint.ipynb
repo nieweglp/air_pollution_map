{
 "cells": [
  {
   "cell_type": "code",
   "execution_count": 1,
   "metadata": {},
   "outputs": [],
   "source": [
    "import folium\n",
    "import pandas as pd\n",
    "from geopy.geocoders import Nominatim\n",
    "from folium.plugins import MarkerCluster\n",
    "import mpld3\n",
    "import matplotlib.pyplot as plt"
   ]
  },
  {
   "cell_type": "code",
   "execution_count": 2,
   "metadata": {},
   "outputs": [],
   "source": [
    "df = pd.read_csv(r\"C:\\Users\\Paul\\Desktop\\gs\\datasets\\Lubartow_air2019-11-01 213027.csv\")"
   ]
  },
  {
   "cell_type": "code",
   "execution_count": 3,
   "metadata": {},
   "outputs": [
    {
     "data": {
      "text/html": [
       "<div>\n",
       "<style scoped>\n",
       "    .dataframe tbody tr th:only-of-type {\n",
       "        vertical-align: middle;\n",
       "    }\n",
       "\n",
       "    .dataframe tbody tr th {\n",
       "        vertical-align: top;\n",
       "    }\n",
       "\n",
       "    .dataframe thead th {\n",
       "        text-align: right;\n",
       "    }\n",
       "</style>\n",
       "<table border=\"1\" class=\"dataframe\">\n",
       "  <thead>\n",
       "    <tr style=\"text-align: right;\">\n",
       "      <th></th>\n",
       "      <th>timestamp</th>\n",
       "      <th>loc</th>\n",
       "      <th>status</th>\n",
       "      <th>PM2_5</th>\n",
       "      <th>PM10</th>\n",
       "    </tr>\n",
       "  </thead>\n",
       "  <tbody>\n",
       "    <tr>\n",
       "      <td>0</td>\n",
       "      <td>2019-11-01 21:30:27</td>\n",
       "      <td>Lubartów ul. Lubelska 36B</td>\n",
       "      <td>Umiarkowany</td>\n",
       "      <td>49</td>\n",
       "      <td>61</td>\n",
       "    </tr>\n",
       "    <tr>\n",
       "      <td>1</td>\n",
       "      <td>2019-11-01 21:30:27</td>\n",
       "      <td>Lubartów ul. Słowackiego 14</td>\n",
       "      <td>Dostateczny</td>\n",
       "      <td>81</td>\n",
       "      <td>98</td>\n",
       "    </tr>\n",
       "    <tr>\n",
       "      <td>2</td>\n",
       "      <td>2019-11-01 21:30:27</td>\n",
       "      <td>Lubartów ul. Chmielna</td>\n",
       "      <td>Zły</td>\n",
       "      <td>89</td>\n",
       "      <td>102</td>\n",
       "    </tr>\n",
       "    <tr>\n",
       "      <td>3</td>\n",
       "      <td>2019-11-01 21:30:27</td>\n",
       "      <td>Lubartów ul. Kosmonautów</td>\n",
       "      <td>Zły</td>\n",
       "      <td>108</td>\n",
       "      <td>131</td>\n",
       "    </tr>\n",
       "    <tr>\n",
       "      <td>4</td>\n",
       "      <td>2019-11-01 21:30:27</td>\n",
       "      <td>Lubartów ul. Szulca</td>\n",
       "      <td>Umiarkowany</td>\n",
       "      <td>59</td>\n",
       "      <td>67</td>\n",
       "    </tr>\n",
       "    <tr>\n",
       "      <td>5</td>\n",
       "      <td>2019-11-01 21:30:27</td>\n",
       "      <td>Lubartów ul. Przechodnia</td>\n",
       "      <td>Dostateczny</td>\n",
       "      <td>67</td>\n",
       "      <td>75</td>\n",
       "    </tr>\n",
       "  </tbody>\n",
       "</table>\n",
       "</div>"
      ],
      "text/plain": [
       "             timestamp                          loc       status  PM2_5  PM10\n",
       "0  2019-11-01 21:30:27    Lubartów ul. Lubelska 36B  Umiarkowany     49    61\n",
       "1  2019-11-01 21:30:27  Lubartów ul. Słowackiego 14  Dostateczny     81    98\n",
       "2  2019-11-01 21:30:27        Lubartów ul. Chmielna          Zły     89   102\n",
       "3  2019-11-01 21:30:27     Lubartów ul. Kosmonautów          Zły    108   131\n",
       "4  2019-11-01 21:30:27          Lubartów ul. Szulca  Umiarkowany     59    67\n",
       "5  2019-11-01 21:30:27     Lubartów ul. Przechodnia  Dostateczny     67    75"
      ]
     },
     "execution_count": 3,
     "metadata": {},
     "output_type": "execute_result"
    }
   ],
   "source": [
    "df"
   ]
  },
  {
   "cell_type": "code",
   "execution_count": 6,
   "metadata": {},
   "outputs": [
    {
     "data": {
      "text/plain": [
       "6"
      ]
     },
     "execution_count": 6,
     "metadata": {},
     "output_type": "execute_result"
    }
   ],
   "source": [
    "len(df)"
   ]
  },
  {
   "cell_type": "code",
   "execution_count": 27,
   "metadata": {},
   "outputs": [],
   "source": [
    "geolocator = Nominatim(user_agent=\"specify_your_app_name_here\")\n",
    "addr = []\n",
    "for i in range(len(df)):\n",
    "    addr.append(geolocator.geocode(df['loc'][i]))"
   ]
  },
  {
   "cell_type": "code",
   "execution_count": 28,
   "metadata": {},
   "outputs": [
    {
     "data": {
      "text/plain": [
       "[Location(36b, Lubelska, Zagrody Lubartowskie, Lubartów, powiat lubartowski, województwo lubelskie, 21-100, Polska, (51.45623, 22.60933, 0.0)),\n",
       " None,\n",
       " Location(Chmielna, Zagrody Lubartowskie, Lubartów, powiat lubartowski, województwo lubelskie, 21-100, Polska, (51.4707331, 22.6089767, 0.0)),\n",
       " Location(Kosmonautów, Lisów, Lubartów, powiat lubartowski, województwo lubelskie, 21-100, Polska, (51.4797281, 22.5984428, 0.0)),\n",
       " Location(Księdza Aleksandra Szulca, Zagrody Lubartowskie, Lubartów, powiat lubartowski, województwo lubelskie, 21-100, Polska, (51.4605429, 22.6103907, 0.0)),\n",
       " Location(Przechodnia, Zagrody Lubartowskie, Lubartów, powiat lubartowski, województwo lubelskie, 21-100, Polska, (51.4585051, 22.6049089, 0.0))]"
      ]
     },
     "execution_count": 28,
     "metadata": {},
     "output_type": "execute_result"
    }
   ],
   "source": [
    "addr"
   ]
  },
  {
   "cell_type": "code",
   "execution_count": 29,
   "metadata": {},
   "outputs": [],
   "source": [
    "addr_loc = []\n",
    "for i in addr:\n",
    "    try:\n",
    "        addr_loc.append(i[-1])\n",
    "    except:\n",
    "        continue\n",
    "#     print(i)"
   ]
  },
  {
   "cell_type": "code",
   "execution_count": 30,
   "metadata": {
    "scrolled": true
   },
   "outputs": [
    {
     "data": {
      "text/plain": [
       "[(51.45623, 22.60933),\n",
       " (51.4707331, 22.6089767),\n",
       " (51.4797281, 22.5984428),\n",
       " (51.4605429, 22.6103907),\n",
       " (51.4585051, 22.6049089)]"
      ]
     },
     "execution_count": 30,
     "metadata": {},
     "output_type": "execute_result"
    }
   ],
   "source": [
    "addr_loc"
   ]
  },
  {
   "cell_type": "code",
   "execution_count": 31,
   "metadata": {},
   "outputs": [],
   "source": [
    "df_loc = pd.DataFrame(addr_loc,columns=['latitude','longitude'])"
   ]
  },
  {
   "cell_type": "code",
   "execution_count": 32,
   "metadata": {},
   "outputs": [],
   "source": [
    "df = pd.concat([df,df_loc],axis=1)"
   ]
  },
  {
   "cell_type": "code",
   "execution_count": 33,
   "metadata": {
    "scrolled": true
   },
   "outputs": [],
   "source": [
    "df_col = pd.DataFrame({'Status': [\"Bardzo dobry\", \"Dobry\", \"Umiarkowany\", \"Dostateczny\", \"Zły\", \"Bardzo zły\"],\n",
    "              'Color': ['blue','green','yellow','orange','red','black']})"
   ]
  },
  {
   "cell_type": "code",
   "execution_count": 34,
   "metadata": {},
   "outputs": [
    {
     "data": {
      "text/html": [
       "<div>\n",
       "<style scoped>\n",
       "    .dataframe tbody tr th:only-of-type {\n",
       "        vertical-align: middle;\n",
       "    }\n",
       "\n",
       "    .dataframe tbody tr th {\n",
       "        vertical-align: top;\n",
       "    }\n",
       "\n",
       "    .dataframe thead th {\n",
       "        text-align: right;\n",
       "    }\n",
       "</style>\n",
       "<table border=\"1\" class=\"dataframe\">\n",
       "  <thead>\n",
       "    <tr style=\"text-align: right;\">\n",
       "      <th></th>\n",
       "      <th>Status</th>\n",
       "      <th>Color</th>\n",
       "    </tr>\n",
       "  </thead>\n",
       "  <tbody>\n",
       "    <tr>\n",
       "      <td>0</td>\n",
       "      <td>Bardzo dobry</td>\n",
       "      <td>blue</td>\n",
       "    </tr>\n",
       "    <tr>\n",
       "      <td>1</td>\n",
       "      <td>Dobry</td>\n",
       "      <td>green</td>\n",
       "    </tr>\n",
       "    <tr>\n",
       "      <td>2</td>\n",
       "      <td>Umiarkowany</td>\n",
       "      <td>yellow</td>\n",
       "    </tr>\n",
       "    <tr>\n",
       "      <td>3</td>\n",
       "      <td>Dostateczny</td>\n",
       "      <td>orange</td>\n",
       "    </tr>\n",
       "    <tr>\n",
       "      <td>4</td>\n",
       "      <td>Zły</td>\n",
       "      <td>red</td>\n",
       "    </tr>\n",
       "    <tr>\n",
       "      <td>5</td>\n",
       "      <td>Bardzo zły</td>\n",
       "      <td>black</td>\n",
       "    </tr>\n",
       "  </tbody>\n",
       "</table>\n",
       "</div>"
      ],
      "text/plain": [
       "         Status   Color\n",
       "0  Bardzo dobry    blue\n",
       "1         Dobry   green\n",
       "2   Umiarkowany  yellow\n",
       "3   Dostateczny  orange\n",
       "4           Zły     red\n",
       "5    Bardzo zły   black"
      ]
     },
     "execution_count": 34,
     "metadata": {},
     "output_type": "execute_result"
    }
   ],
   "source": [
    "df_col"
   ]
  },
  {
   "cell_type": "code",
   "execution_count": 35,
   "metadata": {
    "scrolled": true
   },
   "outputs": [],
   "source": [
    "m = folium.Map(addr_loc[0],zoom_start=13)\n",
    "\n",
    "for i in range(len(addr_loc)):\n",
    "    info = 'Status: ' + df.iloc[i]['status'] +'<br>PM 2.5: '+ str(df.iloc[i]['PM2_5']) + \\\n",
    "    '<br>PM 10: '+ str(df.iloc[i]['PM10'])\n",
    "   \n",
    "    marker_cluster = MarkerCluster().add_to(m)\n",
    "    \n",
    "    folium.CircleMarker(\n",
    "        location=addr_loc[i],\n",
    "        popup=info,\n",
    "        radius=20,\n",
    "        color=str(df_col.loc[df_col['Status'] == df.iloc[i]['status'],['Color']]).rsplit()[-1],\n",
    "        fill=True\n",
    "    ).add_to(marker_cluster)"
   ]
  },
  {
   "cell_type": "code",
   "execution_count": 36,
   "metadata": {},
   "outputs": [
    {
     "data": {
      "text/html": [
       "<div style=\"width:100%;\"><div style=\"position:relative;width:100%;height:0;padding-bottom:60%;\"><iframe src=\"data:text/html;charset=utf-8;base64,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\" style=\"position:absolute;width:100%;height:100%;left:0;top:0;border:none !important;\" allowfullscreen webkitallowfullscreen mozallowfullscreen></iframe></div></div>"
      ],
      "text/plain": [
       "<folium.folium.Map at 0x21f1ca36be0>"
      ]
     },
     "execution_count": 36,
     "metadata": {},
     "output_type": "execute_result"
    }
   ],
   "source": [
    "m"
   ]
  }
 ],
 "metadata": {
  "kernelspec": {
   "display_name": "Python 3",
   "language": "python",
   "name": "python3"
  },
  "language_info": {
   "codemirror_mode": {
    "name": "ipython",
    "version": 3
   },
   "file_extension": ".py",
   "mimetype": "text/x-python",
   "name": "python",
   "nbconvert_exporter": "python",
   "pygments_lexer": "ipython3",
   "version": "3.6.7"
  }
 },
 "nbformat": 4,
 "nbformat_minor": 2
}

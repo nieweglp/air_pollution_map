{
 "cells": [
  {
   "cell_type": "code",
   "execution_count": 20,
   "metadata": {},
   "outputs": [],
   "source": [
    "import folium\n",
    "import pandas as pd\n",
    "from geopy.geocoders import Nominatim\n",
    "from folium.plugins import MarkerCluster\n",
    "import mpld3\n",
    "import matplotlib.pyplot as plt"
   ]
  },
  {
   "cell_type": "code",
   "execution_count": 2,
   "metadata": {},
   "outputs": [],
   "source": [
    "df = pd.read_csv(r'C:\\Users\\Paul\\Desktop\\python\\datasets\\Lubartow_air2019-02-21 215522.csv')"
   ]
  },
  {
   "cell_type": "code",
   "execution_count": 3,
   "metadata": {},
   "outputs": [
    {
     "data": {
      "text/html": [
       "<div>\n",
       "<style scoped>\n",
       "    .dataframe tbody tr th:only-of-type {\n",
       "        vertical-align: middle;\n",
       "    }\n",
       "\n",
       "    .dataframe tbody tr th {\n",
       "        vertical-align: top;\n",
       "    }\n",
       "\n",
       "    .dataframe thead th {\n",
       "        text-align: right;\n",
       "    }\n",
       "</style>\n",
       "<table border=\"1\" class=\"dataframe\">\n",
       "  <thead>\n",
       "    <tr style=\"text-align: right;\">\n",
       "      <th></th>\n",
       "      <th>timestamp</th>\n",
       "      <th>loc</th>\n",
       "      <th>status</th>\n",
       "      <th>PM2_5</th>\n",
       "      <th>PM10</th>\n",
       "    </tr>\n",
       "  </thead>\n",
       "  <tbody>\n",
       "    <tr>\n",
       "      <th>0</th>\n",
       "      <td>2019-02-21 21:55:22</td>\n",
       "      <td>Lubartów ul. Lubelska 36B</td>\n",
       "      <td>Umiarkowany</td>\n",
       "      <td>40</td>\n",
       "      <td>48</td>\n",
       "    </tr>\n",
       "    <tr>\n",
       "      <th>1</th>\n",
       "      <td>2019-02-21 21:55:22</td>\n",
       "      <td>Lubartów ul. Słowackiego 14</td>\n",
       "      <td>Umiarkowany</td>\n",
       "      <td>57</td>\n",
       "      <td>73</td>\n",
       "    </tr>\n",
       "    <tr>\n",
       "      <th>2</th>\n",
       "      <td>2019-02-21 21:55:22</td>\n",
       "      <td>Lubartów ul. Chmielna</td>\n",
       "      <td>Umiarkowany</td>\n",
       "      <td>44</td>\n",
       "      <td>51</td>\n",
       "    </tr>\n",
       "    <tr>\n",
       "      <th>3</th>\n",
       "      <td>2019-02-21 21:55:22</td>\n",
       "      <td>Lubartów ul. Kosmonautów</td>\n",
       "      <td>Zły</td>\n",
       "      <td>104</td>\n",
       "      <td>132</td>\n",
       "    </tr>\n",
       "    <tr>\n",
       "      <th>4</th>\n",
       "      <td>2019-02-21 21:55:22</td>\n",
       "      <td>Lubartów ul. Szulca</td>\n",
       "      <td>Umiarkowany</td>\n",
       "      <td>44</td>\n",
       "      <td>48</td>\n",
       "    </tr>\n",
       "    <tr>\n",
       "      <th>5</th>\n",
       "      <td>2019-02-21 21:55:22</td>\n",
       "      <td>Lubartów ul. Przechodnia</td>\n",
       "      <td>Dobry</td>\n",
       "      <td>17</td>\n",
       "      <td>18</td>\n",
       "    </tr>\n",
       "  </tbody>\n",
       "</table>\n",
       "</div>"
      ],
      "text/plain": [
       "             timestamp                          loc       status  PM2_5  PM10\n",
       "0  2019-02-21 21:55:22    Lubartów ul. Lubelska 36B  Umiarkowany     40    48\n",
       "1  2019-02-21 21:55:22  Lubartów ul. Słowackiego 14  Umiarkowany     57    73\n",
       "2  2019-02-21 21:55:22        Lubartów ul. Chmielna  Umiarkowany     44    51\n",
       "3  2019-02-21 21:55:22     Lubartów ul. Kosmonautów          Zły    104   132\n",
       "4  2019-02-21 21:55:22          Lubartów ul. Szulca  Umiarkowany     44    48\n",
       "5  2019-02-21 21:55:22     Lubartów ul. Przechodnia        Dobry     17    18"
      ]
     },
     "execution_count": 3,
     "metadata": {},
     "output_type": "execute_result"
    }
   ],
   "source": [
    "df"
   ]
  },
  {
   "cell_type": "code",
   "execution_count": 6,
   "metadata": {},
   "outputs": [
    {
     "data": {
      "text/plain": [
       "6"
      ]
     },
     "execution_count": 6,
     "metadata": {},
     "output_type": "execute_result"
    }
   ],
   "source": [
    "len(df)"
   ]
  },
  {
   "cell_type": "code",
   "execution_count": 5,
   "metadata": {},
   "outputs": [],
   "source": [
    "geolocator = Nominatim(user_agent=\"specify_your_app_name_here\")\n",
    "addr = []\n",
    "for i in range(len(df)):\n",
    "    addr.append(geolocator.geocode(df['loc'][i]))"
   ]
  },
  {
   "cell_type": "code",
   "execution_count": 6,
   "metadata": {},
   "outputs": [],
   "source": [
    "addr_loc = []\n",
    "for i in addr:\n",
    "    addr_loc.append(i[-1])"
   ]
  },
  {
   "cell_type": "code",
   "execution_count": 7,
   "metadata": {
    "scrolled": true
   },
   "outputs": [
    {
     "data": {
      "text/plain": [
       "[(51.45623, 22.60933),\n",
       " (51.46642, 22.60753),\n",
       " (51.4707331, 22.6089767),\n",
       " (51.4797281, 22.5984428),\n",
       " (51.4605429, 22.6103907),\n",
       " (51.4585051, 22.6049089)]"
      ]
     },
     "execution_count": 7,
     "metadata": {},
     "output_type": "execute_result"
    }
   ],
   "source": [
    "addr_loc"
   ]
  },
  {
   "cell_type": "code",
   "execution_count": 8,
   "metadata": {},
   "outputs": [],
   "source": [
    "df_loc = pd.DataFrame(addr_loc,columns=['latitude','longitude'])"
   ]
  },
  {
   "cell_type": "code",
   "execution_count": 9,
   "metadata": {},
   "outputs": [],
   "source": [
    "df = pd.concat([df,df_loc],axis=1)"
   ]
  },
  {
   "cell_type": "code",
   "execution_count": 10,
   "metadata": {
    "scrolled": true
   },
   "outputs": [],
   "source": [
    "df_col = pd.DataFrame({'Status': [\"Bardzo dobry\", \"Dobry\", \"Umiarkowany\", \"Dostateczny\", \"Zły\", \"Bardzo zły\"],\n",
    "              'Color': ['blue','green','yellow','orange','red','black']})"
   ]
  },
  {
   "cell_type": "code",
   "execution_count": 11,
   "metadata": {},
   "outputs": [
    {
     "data": {
      "text/html": [
       "<div>\n",
       "<style scoped>\n",
       "    .dataframe tbody tr th:only-of-type {\n",
       "        vertical-align: middle;\n",
       "    }\n",
       "\n",
       "    .dataframe tbody tr th {\n",
       "        vertical-align: top;\n",
       "    }\n",
       "\n",
       "    .dataframe thead th {\n",
       "        text-align: right;\n",
       "    }\n",
       "</style>\n",
       "<table border=\"1\" class=\"dataframe\">\n",
       "  <thead>\n",
       "    <tr style=\"text-align: right;\">\n",
       "      <th></th>\n",
       "      <th>Status</th>\n",
       "      <th>Color</th>\n",
       "    </tr>\n",
       "  </thead>\n",
       "  <tbody>\n",
       "    <tr>\n",
       "      <th>0</th>\n",
       "      <td>Bardzo dobry</td>\n",
       "      <td>blue</td>\n",
       "    </tr>\n",
       "    <tr>\n",
       "      <th>1</th>\n",
       "      <td>Dobry</td>\n",
       "      <td>green</td>\n",
       "    </tr>\n",
       "    <tr>\n",
       "      <th>2</th>\n",
       "      <td>Umiarkowany</td>\n",
       "      <td>yellow</td>\n",
       "    </tr>\n",
       "    <tr>\n",
       "      <th>3</th>\n",
       "      <td>Dostateczny</td>\n",
       "      <td>orange</td>\n",
       "    </tr>\n",
       "    <tr>\n",
       "      <th>4</th>\n",
       "      <td>Zły</td>\n",
       "      <td>red</td>\n",
       "    </tr>\n",
       "    <tr>\n",
       "      <th>5</th>\n",
       "      <td>Bardzo zły</td>\n",
       "      <td>black</td>\n",
       "    </tr>\n",
       "  </tbody>\n",
       "</table>\n",
       "</div>"
      ],
      "text/plain": [
       "         Status   Color\n",
       "0  Bardzo dobry    blue\n",
       "1         Dobry   green\n",
       "2   Umiarkowany  yellow\n",
       "3   Dostateczny  orange\n",
       "4           Zły     red\n",
       "5    Bardzo zły   black"
      ]
     },
     "execution_count": 11,
     "metadata": {},
     "output_type": "execute_result"
    }
   ],
   "source": [
    "df_col"
   ]
  },
  {
   "cell_type": "code",
   "execution_count": 14,
   "metadata": {
    "scrolled": true
   },
   "outputs": [],
   "source": [
    "m = folium.Map(addr_loc[0],zoom_start=13)\n",
    "\n",
    "for i in range(len(addr_loc)):\n",
    "    info = 'Status: ' + df.iloc[i]['status'] +'<br>PM 2.5: '+ str(df.iloc[i]['PM2_5']) + \\\n",
    "    '<br>PM 10: '+ str(df.iloc[i]['PM10'])\n",
    "   \n",
    "    marker_cluster = MarkerCluster().add_to(m)\n",
    "    \n",
    "    folium.CircleMarker(\n",
    "        location=addr_loc[i],\n",
    "        popup=info,\n",
    "        radius=20,\n",
    "        color=str(df_col.loc[df_col['Status'] == df.iloc[i]['status'],['Color']]).rsplit()[-1],\n",
    "        fill=True\n",
    "    ).add_to(marker_cluster)"
   ]
  },
  {
   "cell_type": "code",
   "execution_count": 15,
   "metadata": {},
   "outputs": [
    {
     "data": {
      "text/html": [
       "<div style=\"width:100%;\"><div style=\"position:relative;width:100%;height:0;padding-bottom:60%;\"><iframe src=\"data:text/html;charset=utf-8;base64,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\" style=\"position:absolute;width:100%;height:100%;left:0;top:0;border:none !important;\" allowfullscreen webkitallowfullscreen mozallowfullscreen></iframe></div></div>"
      ],
      "text/plain": [
       "<folium.folium.Map at 0x27d1446e6a0>"
      ]
     },
     "execution_count": 15,
     "metadata": {},
     "output_type": "execute_result"
    }
   ],
   "source": [
    "m"
   ]
  }
 ],
 "metadata": {
  "kernelspec": {
   "display_name": "Python 3",
   "language": "python",
   "name": "python3"
  },
  "language_info": {
   "codemirror_mode": {
    "name": "ipython",
    "version": 3
   },
   "file_extension": ".py",
   "mimetype": "text/x-python",
   "name": "python",
   "nbconvert_exporter": "python",
   "pygments_lexer": "ipython3",
   "version": "3.6.8"
  }
 },
 "nbformat": 4,
 "nbformat_minor": 2
}

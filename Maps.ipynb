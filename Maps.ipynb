{
 "cells": [
  {
   "cell_type": "code",
   "execution_count": 1,
   "metadata": {},
   "outputs": [],
   "source": [
    "import folium\n",
    "import pandas as pd\n",
    "from geopy.geocoders import Nominatim\n",
    "from folium.plugins import MarkerCluster"
   ]
  },
  {
   "cell_type": "code",
   "execution_count": 3,
   "metadata": {},
   "outputs": [],
   "source": [
    "df = pd.read_csv(r'C:\\Users\\Paul\\Desktop\\python\\datasets\\Lubartow_air2019-02-21 215522.csv')"
   ]
  },
  {
   "cell_type": "code",
   "execution_count": 5,
   "metadata": {},
   "outputs": [
    {
     "data": {
      "text/html": [
       "<div>\n",
       "<style scoped>\n",
       "    .dataframe tbody tr th:only-of-type {\n",
       "        vertical-align: middle;\n",
       "    }\n",
       "\n",
       "    .dataframe tbody tr th {\n",
       "        vertical-align: top;\n",
       "    }\n",
       "\n",
       "    .dataframe thead th {\n",
       "        text-align: right;\n",
       "    }\n",
       "</style>\n",
       "<table border=\"1\" class=\"dataframe\">\n",
       "  <thead>\n",
       "    <tr style=\"text-align: right;\">\n",
       "      <th></th>\n",
       "      <th>timestamp</th>\n",
       "      <th>loc</th>\n",
       "      <th>status</th>\n",
       "      <th>PM2_5</th>\n",
       "      <th>PM10</th>\n",
       "    </tr>\n",
       "  </thead>\n",
       "  <tbody>\n",
       "    <tr>\n",
       "      <th>0</th>\n",
       "      <td>2019-02-21 21:55:22</td>\n",
       "      <td>Lubartów ul. Lubelska 36B</td>\n",
       "      <td>Umiarkowany</td>\n",
       "      <td>40</td>\n",
       "      <td>48</td>\n",
       "    </tr>\n",
       "    <tr>\n",
       "      <th>1</th>\n",
       "      <td>2019-02-21 21:55:22</td>\n",
       "      <td>Lubartów ul. Słowackiego 14</td>\n",
       "      <td>Umiarkowany</td>\n",
       "      <td>57</td>\n",
       "      <td>73</td>\n",
       "    </tr>\n",
       "    <tr>\n",
       "      <th>2</th>\n",
       "      <td>2019-02-21 21:55:22</td>\n",
       "      <td>Lubartów ul. Chmielna</td>\n",
       "      <td>Umiarkowany</td>\n",
       "      <td>44</td>\n",
       "      <td>51</td>\n",
       "    </tr>\n",
       "    <tr>\n",
       "      <th>3</th>\n",
       "      <td>2019-02-21 21:55:22</td>\n",
       "      <td>Lubartów ul. Kosmonautów</td>\n",
       "      <td>Zły</td>\n",
       "      <td>104</td>\n",
       "      <td>132</td>\n",
       "    </tr>\n",
       "    <tr>\n",
       "      <th>4</th>\n",
       "      <td>2019-02-21 21:55:22</td>\n",
       "      <td>Lubartów ul. Szulca</td>\n",
       "      <td>Umiarkowany</td>\n",
       "      <td>44</td>\n",
       "      <td>48</td>\n",
       "    </tr>\n",
       "    <tr>\n",
       "      <th>5</th>\n",
       "      <td>2019-02-21 21:55:22</td>\n",
       "      <td>Lubartów ul. Przechodnia</td>\n",
       "      <td>Dobry</td>\n",
       "      <td>17</td>\n",
       "      <td>18</td>\n",
       "    </tr>\n",
       "  </tbody>\n",
       "</table>\n",
       "</div>"
      ],
      "text/plain": [
       "             timestamp                          loc       status  PM2_5  PM10\n",
       "0  2019-02-21 21:55:22    Lubartów ul. Lubelska 36B  Umiarkowany     40    48\n",
       "1  2019-02-21 21:55:22  Lubartów ul. Słowackiego 14  Umiarkowany     57    73\n",
       "2  2019-02-21 21:55:22        Lubartów ul. Chmielna  Umiarkowany     44    51\n",
       "3  2019-02-21 21:55:22     Lubartów ul. Kosmonautów          Zły    104   132\n",
       "4  2019-02-21 21:55:22          Lubartów ul. Szulca  Umiarkowany     44    48\n",
       "5  2019-02-21 21:55:22     Lubartów ul. Przechodnia        Dobry     17    18"
      ]
     },
     "execution_count": 5,
     "metadata": {},
     "output_type": "execute_result"
    }
   ],
   "source": [
    "df"
   ]
  },
  {
   "cell_type": "code",
   "execution_count": 6,
   "metadata": {},
   "outputs": [
    {
     "data": {
      "text/plain": [
       "6"
      ]
     },
     "execution_count": 6,
     "metadata": {},
     "output_type": "execute_result"
    }
   ],
   "source": [
    "len(df)"
   ]
  },
  {
   "cell_type": "code",
   "execution_count": 7,
   "metadata": {},
   "outputs": [],
   "source": [
    "geolocator = Nominatim(user_agent=\"specify_your_app_name_here\")\n",
    "addr = []\n",
    "for i in range(len(df)):\n",
    "    addr.append(geolocator.geocode(df['loc'][i]))"
   ]
  },
  {
   "cell_type": "code",
   "execution_count": 8,
   "metadata": {},
   "outputs": [],
   "source": [
    "addr_loc = []\n",
    "for i in addr:\n",
    "    addr_loc.append(i[-1])"
   ]
  },
  {
   "cell_type": "code",
   "execution_count": 9,
   "metadata": {
    "scrolled": true
   },
   "outputs": [
    {
     "data": {
      "text/plain": [
       "[(51.45623, 22.60933),\n",
       " (51.46642, 22.60753),\n",
       " (51.4707331, 22.6089767),\n",
       " (51.4797281, 22.5984428),\n",
       " (51.4605429, 22.6103907),\n",
       " (51.4585051, 22.6049089)]"
      ]
     },
     "execution_count": 9,
     "metadata": {},
     "output_type": "execute_result"
    }
   ],
   "source": [
    "addr_loc"
   ]
  },
  {
   "cell_type": "code",
   "execution_count": 10,
   "metadata": {},
   "outputs": [],
   "source": [
    "df_loc = pd.DataFrame(addr_loc,columns=['latitude','longitude'])"
   ]
  },
  {
   "cell_type": "code",
   "execution_count": 11,
   "metadata": {},
   "outputs": [],
   "source": [
    "df = pd.concat([df,df_loc],axis=1)"
   ]
  },
  {
   "cell_type": "code",
   "execution_count": 12,
   "metadata": {
    "scrolled": true
   },
   "outputs": [],
   "source": [
    "df_col = pd.DataFrame({'Status': [\"Bardzo dobry\", \"Dobry\", \"Umiarkowany\", \"Dostateczny\", \"Zły\", \"Bardzo zły\"],\n",
    "              'Color': ['blue','green','yellow','orange','red','black']})"
   ]
  },
  {
   "cell_type": "code",
   "execution_count": 13,
   "metadata": {},
   "outputs": [
    {
     "data": {
      "text/html": [
       "<div>\n",
       "<style scoped>\n",
       "    .dataframe tbody tr th:only-of-type {\n",
       "        vertical-align: middle;\n",
       "    }\n",
       "\n",
       "    .dataframe tbody tr th {\n",
       "        vertical-align: top;\n",
       "    }\n",
       "\n",
       "    .dataframe thead th {\n",
       "        text-align: right;\n",
       "    }\n",
       "</style>\n",
       "<table border=\"1\" class=\"dataframe\">\n",
       "  <thead>\n",
       "    <tr style=\"text-align: right;\">\n",
       "      <th></th>\n",
       "      <th>Status</th>\n",
       "      <th>Color</th>\n",
       "    </tr>\n",
       "  </thead>\n",
       "  <tbody>\n",
       "    <tr>\n",
       "      <th>0</th>\n",
       "      <td>Bardzo dobry</td>\n",
       "      <td>blue</td>\n",
       "    </tr>\n",
       "    <tr>\n",
       "      <th>1</th>\n",
       "      <td>Dobry</td>\n",
       "      <td>green</td>\n",
       "    </tr>\n",
       "    <tr>\n",
       "      <th>2</th>\n",
       "      <td>Umiarkowany</td>\n",
       "      <td>yellow</td>\n",
       "    </tr>\n",
       "    <tr>\n",
       "      <th>3</th>\n",
       "      <td>Dostateczny</td>\n",
       "      <td>orange</td>\n",
       "    </tr>\n",
       "    <tr>\n",
       "      <th>4</th>\n",
       "      <td>Zły</td>\n",
       "      <td>red</td>\n",
       "    </tr>\n",
       "    <tr>\n",
       "      <th>5</th>\n",
       "      <td>Bardzo zły</td>\n",
       "      <td>black</td>\n",
       "    </tr>\n",
       "  </tbody>\n",
       "</table>\n",
       "</div>"
      ],
      "text/plain": [
       "         Status   Color\n",
       "0  Bardzo dobry    blue\n",
       "1         Dobry   green\n",
       "2   Umiarkowany  yellow\n",
       "3   Dostateczny  orange\n",
       "4           Zły     red\n",
       "5    Bardzo zły   black"
      ]
     },
     "execution_count": 13,
     "metadata": {},
     "output_type": "execute_result"
    }
   ],
   "source": [
    "df_col"
   ]
  },
  {
   "cell_type": "code",
   "execution_count": 21,
   "metadata": {
    "scrolled": true
   },
   "outputs": [],
   "source": [
    "m = folium.Map(addr_loc[0],zoom_start=12)\n",
    "# , tiles='cartodbpositron'\n",
    "for i in range(len(addr_loc)):\n",
    "    info = 'Status: ' + df.iloc[i]['status'] +'<br>PM 2.5: '+ str(df.iloc[i]['PM2_5']) + \\\n",
    "    '<br>PM 10: '+ str(df.iloc[i]['PM10'])\n",
    "   \n",
    "    marker_cluster = MarkerCluster().add_to(m)\n",
    "    \n",
    "    folium.CircleMarker(\n",
    "        location=addr_loc[i],\n",
    "        popup=info,\n",
    "        radius=20,\n",
    "        color=str(df_col.loc[df_col['Status'] == df.iloc[i]['status'],['Color']]).rsplit()[-1],\n",
    "        fill=True\n",
    "    ).add_to(marker_cluster)\n",
    "    \n",
    "#icon=folium.Icon(icon='cloud'),"
   ]
  },
  {
   "cell_type": "code",
   "execution_count": 22,
   "metadata": {},
   "outputs": [
    {
     "data": {
      "text/html": [
       "<div style=\"width:100%;\"><div style=\"position:relative;width:100%;height:0;padding-bottom:60%;\"><iframe src=\"data:text/html;charset=utf-8;base64,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\" style=\"position:absolute;width:100%;height:100%;left:0;top:0;border:none !important;\" allowfullscreen webkitallowfullscreen mozallowfullscreen></iframe></div></div>"
      ],
      "text/plain": [
       "<folium.folium.Map at 0x1f3eed4d278>"
      ]
     },
     "execution_count": 22,
     "metadata": {},
     "output_type": "execute_result"
    }
   ],
   "source": [
    "m"
   ]
  },
  {
   "cell_type": "code",
   "execution_count": null,
   "metadata": {},
   "outputs": [],
   "source": []
  }
 ],
 "metadata": {
  "kernelspec": {
   "display_name": "Python 3",
   "language": "python",
   "name": "python3"
  },
  "language_info": {
   "codemirror_mode": {
    "name": "ipython",
    "version": 3
   },
   "file_extension": ".py",
   "mimetype": "text/x-python",
   "name": "python",
   "nbconvert_exporter": "python",
   "pygments_lexer": "ipython3",
   "version": "3.6.8"
  }
 },
 "nbformat": 4,
 "nbformat_minor": 2
}
